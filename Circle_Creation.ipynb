{
  "nbformat": 4,
  "nbformat_minor": 0,
  "metadata": {
    "colab": {
      "provenance": [],
      "authorship_tag": "ABX9TyOGdi8KLziWHVw1iGIEYwyq",
      "include_colab_link": true
    },
    "kernelspec": {
      "name": "python3",
      "display_name": "Python 3"
    }
  },
  "cells": [
    {
      "cell_type": "markdown",
      "metadata": {
        "id": "view-in-github",
        "colab_type": "text"
      },
      "source": [
        "<a href=\"https://colab.research.google.com/github/sbowma15/circle_creation/blob/main/Circle_Creation.ipynb\" target=\"_parent\"><img src=\"https://colab.research.google.com/assets/colab-badge.svg\" alt=\"Open In Colab\"/></a>"
      ]
    },
    {
      "cell_type": "code",
      "metadata": {
        "id": "kyAdr-9kDsp0",
        "colab": {
          "base_uri": "https://localhost:8080/",
          "height": 131
        },
        "outputId": "e0d38308-d3fa-4de4-d6a6-ee4eb0f51597"
      },
      "source": [
        "import numpy as np\n",
        "import cv2\n",
        "import math\n",
        "from matplotlib import pyplot as plt\n",
        "from google.colab.patches import cv2_imshow\n",
        "\n",
        "# Create a black image (test array)\n",
        "im2 = np.zeros((100, 200))\n",
        "\n",
        "# Display the image using Matplotlib\n",
        "plt.imshow(im2)\n",
        "\n",
        "# Calculate the radius as half the minimum dimension\n",
        "length, width = im2.shape\n",
        "radius = 0.5 * min(length, width)\n",
        "\n",
        "# Iterate through each pixel\n",
        "for i in range(length):\n",
        "    for j in range(width):\n",
        "        # Check if the pixel is outside the defined circle\n",
        "        if math.sqrt((i - length/2)**2 + (j - width/2)**2) > radius:\n",
        "            im2[i, j] = 255\n",
        "\n",
        "# Display the resulting image using Matplotlib\n",
        "plt.imshow(im2)\n",
        "plt.show()\n",
        "\n",
        "# Save the image\n",
        "cv2.imwrite('/content/sample_data/1_test2.jpg', im2)\n"
      ],
      "execution_count": null,
      "outputs": [
        {
          "output_type": "error",
          "ename": "SyntaxError",
          "evalue": "ignored",
          "traceback": [
            "\u001b[0;36m  File \u001b[0;32m\"<ipython-input-3-330444938622>\"\u001b[0;36m, line \u001b[0;32m13\u001b[0m\n\u001b[0;31m    plt.imshow(im2) length, width = im2.shaperadius = 0.5*min(length,width)radiusfor\u001b[0m\n\u001b[0m                         ^\u001b[0m\n\u001b[0;31mSyntaxError\u001b[0m\u001b[0;31m:\u001b[0m invalid syntax\n"
          ]
        }
      ]
    }
  ]
}